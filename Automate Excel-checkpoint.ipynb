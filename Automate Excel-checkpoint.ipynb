{
 "cells": [
  {
   "cell_type": "code",
   "execution_count": 1,
   "id": "5f9ad176",
   "metadata": {},
   "outputs": [],
   "source": [
    "import openpyxl\n"
   ]
  },
  {
   "cell_type": "code",
   "execution_count": 7,
   "id": "91f51ebc",
   "metadata": {},
   "outputs": [],
   "source": [
    "import openpyxl\n",
    "wb=openpyxl.load_workbook(r'C:\\Users\\ACER\\Desktop\\demo4.xlsx')\n",
    "wb_sheet=wb['Code']\n",
    "wb_sheet.title='Code'\n",
    "wb_sheet.sheet_properties.tabColor='FF0000'\n",
    "wb.save(r'C:\\Users\\ACER\\Desktop\\demo4.xlsx')\n"
   ]
  },
  {
   "cell_type": "code",
   "execution_count": 11,
   "id": "bcfb71ec",
   "metadata": {},
   "outputs": [],
   "source": [
    "import xlsxwriter # to create a new workbook\n",
    "wb=xlsxwriter.Workbook(r'C:\\Users\\ACER\\Desktop\\demo5.xlsx')\n",
    "wb.close()"
   ]
  },
  {
   "cell_type": "code",
   "execution_count": 14,
   "id": "a42d4746",
   "metadata": {},
   "outputs": [
    {
     "name": "stdout",
     "output_type": "stream",
     "text": [
      "Names\n"
     ]
    }
   ],
   "source": [
    "import openpyxl\n",
    "wb=openpyxl.load_workbook(r'C:\\Users\\ACER\\Desktop\\demo4.xlsx')\n",
    "ws=wb.active\n",
    "a=ws['A1'].value # to reterieve cells\n",
    "print(a)"
   ]
  },
  {
   "cell_type": "code",
   "execution_count": 15,
   "id": "9898500b",
   "metadata": {},
   "outputs": [
    {
     "name": "stdout",
     "output_type": "stream",
     "text": [
      "anjali\n"
     ]
    }
   ],
   "source": [
    "import openpyxl\n",
    "wb=openpyxl.load_workbook(r'C:\\Users\\ACER\\Desktop\\demo4.xlsx')\n",
    "ws=wb.active\n",
    "a=ws['B3'].value # to reterieve cells\n",
    "print(a)"
   ]
  },
  {
   "cell_type": "code",
   "execution_count": 17,
   "id": "80dc4b64",
   "metadata": {},
   "outputs": [],
   "source": [
    "ws['A5'].value='John1' # change cell value\n",
    "wb.save(r'C:\\Users\\ACER\\Desktop\\demo4.xlsx')"
   ]
  },
  {
   "cell_type": "code",
   "execution_count": 18,
   "id": "e2b54f00",
   "metadata": {},
   "outputs": [],
   "source": [
    "from openpyxl.styles import Alignment # merge cells\n",
    "wb=Workbook()\n",
    "ws=wb.active\n",
    "ws.merge_cells('A1:B2')\n",
    "wb.save(r'C:\\Users\\ACER\\Desktop\\demo4.xlsx')"
   ]
  },
  {
   "cell_type": "code",
   "execution_count": 21,
   "id": "f6ad2696",
   "metadata": {},
   "outputs": [],
   "source": [
    "from openpyxl.styles import Alignment # with alignments\n",
    "wb=Workbook()\n",
    "ws=wb.active\n",
    "ws.merge_cells('A1:B2')\n",
    "cell=ws.cell(row=1,column=1)\n",
    "cell.value='Code'\n",
    "cell.alignment=Alignment(horizontal='center',vertical='center')\n",
    "wb.save(r'C:\\Users\\ACER\\Desktop\\demo4.xlsx')"
   ]
  },
  {
   "cell_type": "code",
   "execution_count": 23,
   "id": "a15a3dc5",
   "metadata": {},
   "outputs": [],
   "source": [
    "from openpyxl.styles import Alignment # default value\n",
    "wb=Workbook()\n",
    "ws=wb.active\n",
    "ws.merge_cells('C6:D6')\n",
    "cell=ws.cell(row=6,column=6)\n",
    "cell.value='Code With Sakshi'\n",
    "wb.save(r'C:\\Users\\ACER\\Desktop\\demo4.xlsx')\n"
   ]
  },
  {
   "cell_type": "code",
   "execution_count": 25,
   "id": "3f331a12",
   "metadata": {},
   "outputs": [],
   "source": [
    "from openpyxl.styles import Alignment\n",
    "wb=Workbook()\n",
    "ws=wb.active\n",
    "ws.merge_cells('A6:B6')\n",
    "ws.unmerge_cells('A6:B6')\n",
    "# cell=ws.cell(row=6,column=6)\n",
    "# cell.value='Code With Sakshi'\n",
    "wb.save(r'C:\\Users\\ACER\\Desktop\\demo4.xlsx')\n"
   ]
  },
  {
   "cell_type": "code",
   "execution_count": 27,
   "id": "dfbfc783",
   "metadata": {},
   "outputs": [],
   "source": [
    "# how can we set a dimension for a particular or a column\n",
    "import openpyxl # to set dimensions of a particular cell\n",
    "wb=openpyxl.Workbook()\n",
    "ws=wb.active\n",
    "\n",
    "ws.cell(row=1,column=1).value='Hello'\n",
    "ws.cell(row=2,column=2).value='Bye'\n",
    "\n",
    "ws.row_dimensions[1].height=70\n",
    "ws.column_dimensions['B'].width=8\n",
    "\n",
    "\n",
    "wb.save(r'C:\\Users\\ACER\\Desktop\\demo4.xlsx')"
   ]
  },
  {
   "cell_type": "code",
   "execution_count": 30,
   "id": "c7ad3119",
   "metadata": {},
   "outputs": [],
   "source": [
    "import openpyxl # move cell by row or col\n",
    "from openpyxl import Workbook,load_workbook\n",
    "wb=load_workbook(r'C:\\Users\\ACER\\Desktop\\demo4.xlsx')\n",
    "ws=wb.active\n",
    "ws.move_range(\"A4:B5\",rows=2,cols=2)\n",
    "wb.save(r'C:\\Users\\ACER\\Desktop\\demo4.xlsx')"
   ]
  },
  {
   "cell_type": "code",
   "execution_count": 31,
   "id": "6d3cb0af",
   "metadata": {},
   "outputs": [],
   "source": [
    "import openpyxl # insert rows\n",
    "from openpyxl import Workbook,load_workbook\n",
    "wb=load_workbook(r'C:\\Users\\ACER\\Desktop\\demo4.xlsx')\n",
    "ws=wb.active\n",
    "ws.insert_rows(2)\n",
    "ws.insert_rows(5)\n",
    "wb.save(r'C:\\Users\\ACER\\Desktop\\demo4.xlsx')"
   ]
  },
  {
   "cell_type": "code",
   "execution_count": 32,
   "id": "7d902eae",
   "metadata": {},
   "outputs": [],
   "source": [
    "import openpyxl # delete rows\n",
    "from openpyxl import Workbook,load_workbook\n",
    "wb=load_workbook(r'C:\\Users\\ACER\\Desktop\\demo4.xlsx')\n",
    "ws=wb.active\n",
    "ws.delete_rows(2)\n",
    "\n",
    "wb.save(r'C:\\Users\\ACER\\Desktop\\demo4.xlsx')"
   ]
  },
  {
   "cell_type": "code",
   "execution_count": 33,
   "id": "46ae70a1",
   "metadata": {},
   "outputs": [],
   "source": [
    "import openpyxl # insert cols\n",
    "from openpyxl import Workbook,load_workbook\n",
    "wb=load_workbook(r'C:\\Users\\ACER\\Desktop\\demo4.xlsx')\n",
    "ws=wb.active\n",
    "ws.insert_cols(1)\n",
    "ws.insert_cols(3)\n",
    "wb.save(r'C:\\Users\\ACER\\Desktop\\demo4.xlsx')"
   ]
  },
  {
   "cell_type": "code",
   "execution_count": 34,
   "id": "b44e15d1",
   "metadata": {},
   "outputs": [],
   "source": [
    "import openpyxl # delete cols\n",
    "from openpyxl import Workbook,load_workbook\n",
    "wb=load_workbook(r'C:\\Users\\ACER\\Desktop\\demo4.xlsx')\n",
    "ws=wb.active\n",
    "ws.delete_cols(1)\n",
    "\n",
    "wb.save(r'C:\\Users\\ACER\\Desktop\\demo4.xlsx')"
   ]
  },
  {
   "cell_type": "code",
   "execution_count": null,
   "id": "0e055e4f",
   "metadata": {},
   "outputs": [],
   "source": []
  }
 ],
 "metadata": {
  "kernelspec": {
   "display_name": "Python 3 (ipykernel)",
   "language": "python",
   "name": "python3"
  },
  "language_info": {
   "codemirror_mode": {
    "name": "ipython",
    "version": 3
   },
   "file_extension": ".py",
   "mimetype": "text/x-python",
   "name": "python",
   "nbconvert_exporter": "python",
   "pygments_lexer": "ipython3",
   "version": "3.10.5"
  }
 },
 "nbformat": 4,
 "nbformat_minor": 5
}
